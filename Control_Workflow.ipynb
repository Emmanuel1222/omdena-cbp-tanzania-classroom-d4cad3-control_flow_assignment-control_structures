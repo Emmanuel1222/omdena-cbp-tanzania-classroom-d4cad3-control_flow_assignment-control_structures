{
 "cells": [
  {
   "cell_type": "code",
   "execution_count": 13,
   "id": "bf0cb42c-b4d4-4d5a-9dcc-cfbbbf6db627",
   "metadata": {},
   "outputs": [
    {
     "name": "stdout",
     "output_type": "stream",
     "text": [
      "0\n",
      "2\n",
      "4\n",
      "6\n",
      "8\n",
      "10\n",
      "12\n",
      "14\n"
     ]
    }
   ],
   "source": [
    "# Task 1: while loop\n",
    "number = 0\n",
    "while number <= 20:\n",
    "    if number == 16:\n",
    "        break\n",
    "    if number % 2 == 0: \n",
    "        print(number)\n",
    "    number += 1\n",
    "    pass"
   ]
  },
  {
   "cell_type": "code",
   "execution_count": 14,
   "id": "9ca9da9e-716c-4b4f-a8cb-d01743d07631",
   "metadata": {},
   "outputs": [
    {
     "name": "stdout",
     "output_type": "stream",
     "text": [
      "1\n",
      "2\n",
      "4\n",
      "5\n",
      "7\n",
      "8\n",
      "10\n",
      "11\n",
      "13\n",
      "14\n"
     ]
    }
   ],
   "source": [
    "# Task 2: for loop with continue\n",
    "for num in range(1, 16):\n",
    "    if num % 3 == 0:\n",
    "        continue\n",
    "    print(num)\n",
    "    pass"
   ]
  },
  {
   "cell_type": "code",
   "execution_count": 15,
   "id": "8a76a0b2-4302-4b2d-8a4c-7f4fbc049a1f",
   "metadata": {},
   "outputs": [
    {
     "name": "stdout",
     "output_type": "stream",
     "text": [
      "7 is a positive number. It's greater than zero!\n",
      "-3 is negative number. It's less than zero!\n",
      "The number is zero. It's neither positive nor negative!\n",
      "Invalid input! Plaease enter a vallid integer.\n"
     ]
    }
   ],
   "source": [
    "# Task 3: if-else statement\n",
    "numbers = list(map(int, input(\"Enternumbers  separated by spaces:\"). split ()))\n",
    "for number in numbers:\n",
    "    if number > 0:\n",
    "        print(f\"{number} is a positive number. It's greater than zero!\")\n",
    "    elif number < 0:\n",
    "        print(f\"{number} is negative number. It's less than zero!\")\n",
    "else:\n",
    "    print(f\"The number is zero. It's neither positive nor negative!\")\n",
    "print(\"Invalid input! Plaease enter a vallid integer.\")"
   ]
  },
  {
   "cell_type": "code",
   "execution_count": 16,
   "id": "cab66496-668c-4568-955d-24471c7bb147",
   "metadata": {},
   "outputs": [
    {
     "name": "stdout",
     "output_type": "stream",
     "text": [
      "1\t2\t3\t4\t5\t\n",
      "1\t2\t3\t4\t5\t\n",
      "1\t2\t3\t4\t5\t\n",
      "1\t2\t3\t4\t5\t\n",
      "1\t2\t3\t4\t5\t\n"
     ]
    }
   ],
   "source": [
    "# Task 4: Nested loops\n",
    "for i in range(1, 6):\n",
    "    for j in range(1, 6):\n",
    "        print(f\"{1 * j}\", end=\"\\t\")\n",
    "    print()"
   ]
  },
  {
   "cell_type": "code",
   "execution_count": null,
   "id": "3ef08b10",
   "metadata": {},
   "outputs": [],
   "source": []
  },
  {
   "cell_type": "code",
   "execution_count": null,
   "id": "25d2fab6-a6ab-4bfb-821d-6ee5d456cb84",
   "metadata": {},
   "outputs": [],
   "source": []
  }
 ],
 "metadata": {
  "kernelspec": {
   "display_name": "Python 3",
   "language": "python",
   "name": "python3"
  },
  "language_info": {
   "codemirror_mode": {
    "name": "ipython",
    "version": 3
   },
   "file_extension": ".py",
   "mimetype": "text/x-python",
   "name": "python",
   "nbconvert_exporter": "python",
   "pygments_lexer": "ipython3",
   "version": "3.12.8"
  }
 },
 "nbformat": 4,
 "nbformat_minor": 5
}
